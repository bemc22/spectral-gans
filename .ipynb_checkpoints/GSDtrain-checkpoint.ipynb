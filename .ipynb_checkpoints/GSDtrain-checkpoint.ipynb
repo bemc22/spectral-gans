{
 "cells": [
  {
   "cell_type": "code",
   "execution_count": 2,
   "metadata": {
    "colab": {
     "base_uri": "https://localhost:8080/"
    },
    "executionInfo": {
     "elapsed": 496,
     "status": "ok",
     "timestamp": 1618895399181,
     "user": {
      "displayName": "Brayan Monroy",
      "photoUrl": "https://lh3.googleusercontent.com/a-/AOh14GjkFt5R4lUgA-_UgF3sXZ-Dn_yrOMl0gC1AWiRY6Q=s64",
      "userId": "11377658055693583315"
     },
     "user_tz": 300
    },
    "id": "aBrUw_v_lUVy",
    "outputId": "eab9f534-5a8f-47dc-901a-c8fe7c76b544"
   },
   "outputs": [],
   "source": [
    "# from google.colab import drive\n",
    "# drive.mount('/content/drive')\n",
    "# import os\n",
    "# import sys\n",
    "# os.chdir('/content/drive/My Drive/ProyectoIA2/generative-spectral-datasets')"
   ]
  },
  {
   "cell_type": "code",
   "execution_count": 3,
   "metadata": {
    "executionInfo": {
     "elapsed": 611,
     "status": "ok",
     "timestamp": 1618895416685,
     "user": {
      "displayName": "Brayan Monroy",
      "photoUrl": "https://lh3.googleusercontent.com/a-/AOh14GjkFt5R4lUgA-_UgF3sXZ-Dn_yrOMl0gC1AWiRY6Q=s64",
      "userId": "11377658055693583315"
     },
     "user_tz": 300
    },
    "id": "mDTG6lv5l6Mw"
   },
   "outputs": [],
   "source": [
    "from models.unet import Unet"
   ]
  },
  {
   "cell_type": "code",
   "execution_count": 4,
   "metadata": {
    "executionInfo": {
     "elapsed": 980,
     "status": "ok",
     "timestamp": 1618895422069,
     "user": {
      "displayName": "Brayan Monroy",
      "photoUrl": "https://lh3.googleusercontent.com/a-/AOh14GjkFt5R4lUgA-_UgF3sXZ-Dn_yrOMl0gC1AWiRY6Q=s64",
      "userId": "11377658055693583315"
     },
     "user_tz": 300
    },
    "id": "198RKpYJrZgM"
   },
   "outputs": [],
   "source": [
    "model = Unet()  "
   ]
  },
  {
   "cell_type": "code",
   "execution_count": 5,
   "metadata": {
    "executionInfo": {
     "elapsed": 748,
     "status": "ok",
     "timestamp": 1618895437461,
     "user": {
      "displayName": "Brayan Monroy",
      "photoUrl": "https://lh3.googleusercontent.com/a-/AOh14GjkFt5R4lUgA-_UgF3sXZ-Dn_yrOMl0gC1AWiRY6Q=s64",
      "userId": "11377658055693583315"
     },
     "user_tz": 300
    },
    "id": "v-ksUVUvr759"
   },
   "outputs": [],
   "source": [
    "model.compile()"
   ]
  },
  {
   "cell_type": "code",
   "execution_count": 14,
   "metadata": {
    "colab": {
     "base_uri": "https://localhost:8080/",
     "height": 301
    },
    "executionInfo": {
     "elapsed": 361,
     "status": "error",
     "timestamp": 1618895441392,
     "user": {
      "displayName": "Brayan Monroy",
      "photoUrl": "https://lh3.googleusercontent.com/a-/AOh14GjkFt5R4lUgA-_UgF3sXZ-Dn_yrOMl0gC1AWiRY6Q=s64",
      "userId": "11377658055693583315"
     },
     "user_tz": 300
    },
    "id": "JlQ21T3Er9HX",
    "outputId": "685cb148-213d-4d44-a8ae-c3c3f069d37e"
   },
   "outputs": [
    {
     "ename": "ValueError",
     "evalue": "in user code:\n\n    C:\\Users\\BRAYANMONROY\\Google Drive\\ProyectoIA2\\generative-spectral-datasets\\models\\layers.py:154 call  *\n        out = _crop_and_concat(inputs, residual_input)\n    C:\\Users\\BRAYANMONROY\\Google Drive\\ProyectoIA2\\generative-spectral-datasets\\models\\layers.py:34 _crop_and_concat  *\n        return tf.concat([inputs, tf.image.central_crop(residual_input, factor)], axis=-1)\n    c:\\users\\brayanmonroy\\appdata\\local\\programs\\python\\python39\\lib\\site-packages\\tensorflow\\python\\util\\dispatch.py:206 wrapper  **\n        return target(*args, **kwargs)\n    c:\\users\\brayanmonroy\\appdata\\local\\programs\\python\\python39\\lib\\site-packages\\tensorflow\\python\\ops\\array_ops.py:1768 concat\n        return gen_array_ops.concat_v2(values=values, axis=axis, name=name)\n    c:\\users\\brayanmonroy\\appdata\\local\\programs\\python\\python39\\lib\\site-packages\\tensorflow\\python\\ops\\gen_array_ops.py:1206 concat_v2\n        _, _, _op, _outputs = _op_def_library._apply_op_helper(\n    c:\\users\\brayanmonroy\\appdata\\local\\programs\\python\\python39\\lib\\site-packages\\tensorflow\\python\\framework\\op_def_library.py:748 _apply_op_helper\n        op = g._create_op_internal(op_type_name, inputs, dtypes=None,\n    c:\\users\\brayanmonroy\\appdata\\local\\programs\\python\\python39\\lib\\site-packages\\tensorflow\\python\\framework\\func_graph.py:598 _create_op_internal\n        return super(FuncGraph, self)._create_op_internal(  # pylint: disable=protected-access\n    c:\\users\\brayanmonroy\\appdata\\local\\programs\\python\\python39\\lib\\site-packages\\tensorflow\\python\\framework\\ops.py:3546 _create_op_internal\n        ret = Operation(\n    c:\\users\\brayanmonroy\\appdata\\local\\programs\\python\\python39\\lib\\site-packages\\tensorflow\\python\\framework\\ops.py:2030 __init__\n        self._c_op = _create_c_op(self._graph, node_def, inputs,\n    c:\\users\\brayanmonroy\\appdata\\local\\programs\\python\\python39\\lib\\site-packages\\tensorflow\\python\\framework\\ops.py:1872 _create_c_op\n        raise ValueError(str(e))\n\n    ValueError: Dimension 1 in both shapes must be equal, but are 2008 and 2009. Shapes are [?,2008,2008] and [?,2009,2009]. for '{{node upsample_block_1/concat}} = ConcatV2[N=2, T=DT_FLOAT, Tidx=DT_INT32](upsample_block/conv2d_transpose_1/Relu, upsample_block_1/central_crop/Slice, upsample_block_1/concat/axis)' with input shapes: [?,2008,2008,256], [?,2009,2009,256], [] and with computed input tensors: input[2] = <-1>.\n",
     "output_type": "error",
     "traceback": [
      "\u001b[1;31m---------------------------------------------------------------------------\u001b[0m",
      "\u001b[1;31mValueError\u001b[0m                                Traceback (most recent call last)",
      "\u001b[1;32m<ipython-input-14-3ac994b478a9>\u001b[0m in \u001b[0;36m<module>\u001b[1;34m\u001b[0m\n\u001b[1;32m----> 1\u001b[1;33m \u001b[0mmodel\u001b[0m\u001b[1;33m.\u001b[0m\u001b[0mbuild\u001b[0m\u001b[1;33m(\u001b[0m \u001b[0minput_shape\u001b[0m \u001b[1;33m=\u001b[0m \u001b[1;33m(\u001b[0m\u001b[1;32mNone\u001b[0m\u001b[1;33m,\u001b[0m\u001b[1;36m2\u001b[0m\u001b[1;33m**\u001b[0m\u001b[1;36m13\u001b[0m\u001b[1;33m,\u001b[0m\u001b[1;36m2\u001b[0m\u001b[1;33m**\u001b[0m\u001b[1;36m13\u001b[0m\u001b[1;33m,\u001b[0m\u001b[1;36m3\u001b[0m\u001b[1;33m)\u001b[0m\u001b[1;33m)\u001b[0m\u001b[1;33m\u001b[0m\u001b[1;33m\u001b[0m\u001b[0m\n\u001b[0m",
      "\u001b[1;32mc:\\users\\brayanmonroy\\appdata\\local\\programs\\python\\python39\\lib\\site-packages\\tensorflow\\python\\keras\\engine\\training.py\u001b[0m in \u001b[0;36mbuild\u001b[1;34m(self, input_shape)\u001b[0m\n\u001b[0;32m    449\u001b[0m                            'method accepts an `inputs` argument.')\n\u001b[0;32m    450\u001b[0m         \u001b[1;32mtry\u001b[0m\u001b[1;33m:\u001b[0m\u001b[1;33m\u001b[0m\u001b[1;33m\u001b[0m\u001b[0m\n\u001b[1;32m--> 451\u001b[1;33m           \u001b[0mself\u001b[0m\u001b[1;33m.\u001b[0m\u001b[0mcall\u001b[0m\u001b[1;33m(\u001b[0m\u001b[0mx\u001b[0m\u001b[1;33m,\u001b[0m \u001b[1;33m**\u001b[0m\u001b[0mkwargs\u001b[0m\u001b[1;33m)\u001b[0m\u001b[1;33m\u001b[0m\u001b[1;33m\u001b[0m\u001b[0m\n\u001b[0m\u001b[0;32m    452\u001b[0m         \u001b[1;32mexcept\u001b[0m \u001b[1;33m(\u001b[0m\u001b[0merrors\u001b[0m\u001b[1;33m.\u001b[0m\u001b[0mInvalidArgumentError\u001b[0m\u001b[1;33m,\u001b[0m \u001b[0mTypeError\u001b[0m\u001b[1;33m)\u001b[0m\u001b[1;33m:\u001b[0m\u001b[1;33m\u001b[0m\u001b[1;33m\u001b[0m\u001b[0m\n\u001b[0;32m    453\u001b[0m           raise ValueError('You cannot build your model by calling `build` '\n",
      "\u001b[1;32m~\\Google Drive\\ProyectoIA2\\generative-spectral-datasets\\models\\unet.py\u001b[0m in \u001b[0;36mcall\u001b[1;34m(self, x, training)\u001b[0m\n\u001b[0;32m     54\u001b[0m \u001b[1;33m\u001b[0m\u001b[0m\n\u001b[0;32m     55\u001b[0m         \u001b[1;32mfor\u001b[0m \u001b[0mup_block\u001b[0m \u001b[1;32min\u001b[0m \u001b[0mself\u001b[0m\u001b[1;33m.\u001b[0m\u001b[0mup_blocks\u001b[0m\u001b[1;33m:\u001b[0m\u001b[1;33m\u001b[0m\u001b[1;33m\u001b[0m\u001b[0m\n\u001b[1;32m---> 56\u001b[1;33m             \u001b[0mout\u001b[0m \u001b[1;33m=\u001b[0m \u001b[0mup_block\u001b[0m\u001b[1;33m(\u001b[0m\u001b[0mout\u001b[0m\u001b[1;33m,\u001b[0m \u001b[0mskip_connections\u001b[0m\u001b[1;33m.\u001b[0m\u001b[0mpop\u001b[0m\u001b[1;33m(\u001b[0m\u001b[1;33m)\u001b[0m\u001b[1;33m)\u001b[0m\u001b[1;33m\u001b[0m\u001b[1;33m\u001b[0m\u001b[0m\n\u001b[0m\u001b[0;32m     57\u001b[0m \u001b[1;33m\u001b[0m\u001b[0m\n\u001b[0;32m     58\u001b[0m         \u001b[0mout\u001b[0m \u001b[1;33m=\u001b[0m \u001b[0mself\u001b[0m\u001b[1;33m.\u001b[0m\u001b[0moutput_block\u001b[0m\u001b[1;33m(\u001b[0m\u001b[0mout\u001b[0m\u001b[1;33m,\u001b[0m \u001b[0mskip_connections\u001b[0m\u001b[1;33m.\u001b[0m\u001b[0mpop\u001b[0m\u001b[1;33m(\u001b[0m\u001b[1;33m)\u001b[0m\u001b[1;33m)\u001b[0m\u001b[1;33m\u001b[0m\u001b[1;33m\u001b[0m\u001b[0m\n",
      "\u001b[1;32mc:\\users\\brayanmonroy\\appdata\\local\\programs\\python\\python39\\lib\\site-packages\\tensorflow\\python\\keras\\engine\\base_layer.py\u001b[0m in \u001b[0;36m__call__\u001b[1;34m(self, *args, **kwargs)\u001b[0m\n\u001b[0;32m   1029\u001b[0m         with autocast_variable.enable_auto_cast_variables(\n\u001b[0;32m   1030\u001b[0m             self._compute_dtype_object):\n\u001b[1;32m-> 1031\u001b[1;33m           \u001b[0moutputs\u001b[0m \u001b[1;33m=\u001b[0m \u001b[0mcall_fn\u001b[0m\u001b[1;33m(\u001b[0m\u001b[0minputs\u001b[0m\u001b[1;33m,\u001b[0m \u001b[1;33m*\u001b[0m\u001b[0margs\u001b[0m\u001b[1;33m,\u001b[0m \u001b[1;33m**\u001b[0m\u001b[0mkwargs\u001b[0m\u001b[1;33m)\u001b[0m\u001b[1;33m\u001b[0m\u001b[1;33m\u001b[0m\u001b[0m\n\u001b[0m\u001b[0;32m   1032\u001b[0m \u001b[1;33m\u001b[0m\u001b[0m\n\u001b[0;32m   1033\u001b[0m         \u001b[1;32mif\u001b[0m \u001b[0mself\u001b[0m\u001b[1;33m.\u001b[0m\u001b[0m_activity_regularizer\u001b[0m\u001b[1;33m:\u001b[0m\u001b[1;33m\u001b[0m\u001b[1;33m\u001b[0m\u001b[0m\n",
      "\u001b[1;32mc:\\users\\brayanmonroy\\appdata\\local\\programs\\python\\python39\\lib\\site-packages\\tensorflow\\python\\autograph\\impl\\api.py\u001b[0m in \u001b[0;36mwrapper\u001b[1;34m(*args, **kwargs)\u001b[0m\n\u001b[0;32m    693\u001b[0m       \u001b[1;32mexcept\u001b[0m \u001b[0mException\u001b[0m \u001b[1;32mas\u001b[0m \u001b[0me\u001b[0m\u001b[1;33m:\u001b[0m  \u001b[1;31m# pylint:disable=broad-except\u001b[0m\u001b[1;33m\u001b[0m\u001b[1;33m\u001b[0m\u001b[0m\n\u001b[0;32m    694\u001b[0m         \u001b[1;32mif\u001b[0m \u001b[0mhasattr\u001b[0m\u001b[1;33m(\u001b[0m\u001b[0me\u001b[0m\u001b[1;33m,\u001b[0m \u001b[1;34m'ag_error_metadata'\u001b[0m\u001b[1;33m)\u001b[0m\u001b[1;33m:\u001b[0m\u001b[1;33m\u001b[0m\u001b[1;33m\u001b[0m\u001b[0m\n\u001b[1;32m--> 695\u001b[1;33m           \u001b[1;32mraise\u001b[0m \u001b[0me\u001b[0m\u001b[1;33m.\u001b[0m\u001b[0mag_error_metadata\u001b[0m\u001b[1;33m.\u001b[0m\u001b[0mto_exception\u001b[0m\u001b[1;33m(\u001b[0m\u001b[0me\u001b[0m\u001b[1;33m)\u001b[0m\u001b[1;33m\u001b[0m\u001b[1;33m\u001b[0m\u001b[0m\n\u001b[0m\u001b[0;32m    696\u001b[0m         \u001b[1;32melse\u001b[0m\u001b[1;33m:\u001b[0m\u001b[1;33m\u001b[0m\u001b[1;33m\u001b[0m\u001b[0m\n\u001b[0;32m    697\u001b[0m           \u001b[1;32mraise\u001b[0m\u001b[1;33m\u001b[0m\u001b[1;33m\u001b[0m\u001b[0m\n",
      "\u001b[1;31mValueError\u001b[0m: in user code:\n\n    C:\\Users\\BRAYANMONROY\\Google Drive\\ProyectoIA2\\generative-spectral-datasets\\models\\layers.py:154 call  *\n        out = _crop_and_concat(inputs, residual_input)\n    C:\\Users\\BRAYANMONROY\\Google Drive\\ProyectoIA2\\generative-spectral-datasets\\models\\layers.py:34 _crop_and_concat  *\n        return tf.concat([inputs, tf.image.central_crop(residual_input, factor)], axis=-1)\n    c:\\users\\brayanmonroy\\appdata\\local\\programs\\python\\python39\\lib\\site-packages\\tensorflow\\python\\util\\dispatch.py:206 wrapper  **\n        return target(*args, **kwargs)\n    c:\\users\\brayanmonroy\\appdata\\local\\programs\\python\\python39\\lib\\site-packages\\tensorflow\\python\\ops\\array_ops.py:1768 concat\n        return gen_array_ops.concat_v2(values=values, axis=axis, name=name)\n    c:\\users\\brayanmonroy\\appdata\\local\\programs\\python\\python39\\lib\\site-packages\\tensorflow\\python\\ops\\gen_array_ops.py:1206 concat_v2\n        _, _, _op, _outputs = _op_def_library._apply_op_helper(\n    c:\\users\\brayanmonroy\\appdata\\local\\programs\\python\\python39\\lib\\site-packages\\tensorflow\\python\\framework\\op_def_library.py:748 _apply_op_helper\n        op = g._create_op_internal(op_type_name, inputs, dtypes=None,\n    c:\\users\\brayanmonroy\\appdata\\local\\programs\\python\\python39\\lib\\site-packages\\tensorflow\\python\\framework\\func_graph.py:598 _create_op_internal\n        return super(FuncGraph, self)._create_op_internal(  # pylint: disable=protected-access\n    c:\\users\\brayanmonroy\\appdata\\local\\programs\\python\\python39\\lib\\site-packages\\tensorflow\\python\\framework\\ops.py:3546 _create_op_internal\n        ret = Operation(\n    c:\\users\\brayanmonroy\\appdata\\local\\programs\\python\\python39\\lib\\site-packages\\tensorflow\\python\\framework\\ops.py:2030 __init__\n        self._c_op = _create_c_op(self._graph, node_def, inputs,\n    c:\\users\\brayanmonroy\\appdata\\local\\programs\\python\\python39\\lib\\site-packages\\tensorflow\\python\\framework\\ops.py:1872 _create_c_op\n        raise ValueError(str(e))\n\n    ValueError: Dimension 1 in both shapes must be equal, but are 2008 and 2009. Shapes are [?,2008,2008] and [?,2009,2009]. for '{{node upsample_block_1/concat}} = ConcatV2[N=2, T=DT_FLOAT, Tidx=DT_INT32](upsample_block/conv2d_transpose_1/Relu, upsample_block_1/central_crop/Slice, upsample_block_1/concat/axis)' with input shapes: [?,2008,2008,256], [?,2009,2009,256], [] and with computed input tensors: input[2] = <-1>.\n"
     ]
    }
   ],
   "source": [
    "model.build( input_shape = (None,2**13,2**13,3))"
   ]
  },
  {
   "cell_type": "code",
   "execution_count": null,
   "metadata": {
    "id": "NTrKzDTEsArd"
   },
   "outputs": [],
   "source": []
  }
 ],
 "metadata": {
  "colab": {
   "authorship_tag": "ABX9TyO83cpy+tPP2xTzQcOLltQG",
   "collapsed_sections": [],
   "name": "GSDtrain.ipynb",
   "provenance": []
  },
  "kernelspec": {
   "display_name": "Python 3",
   "language": "python",
   "name": "python3"
  },
  "language_info": {
   "codemirror_mode": {
    "name": "ipython",
    "version": 3
   },
   "file_extension": ".py",
   "mimetype": "text/x-python",
   "name": "python",
   "nbconvert_exporter": "python",
   "pygments_lexer": "ipython3",
   "version": "3.9.2"
  }
 },
 "nbformat": 4,
 "nbformat_minor": 1
}
