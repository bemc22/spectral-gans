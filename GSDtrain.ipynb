{
 "cells": [
  {
   "cell_type": "code",
   "execution_count": 1,
   "metadata": {
    "colab": {
     "base_uri": "https://localhost:8080/"
    },
    "executionInfo": {
     "elapsed": 496,
     "status": "ok",
     "timestamp": 1618895399181,
     "user": {
      "displayName": "Brayan Monroy",
      "photoUrl": "https://lh3.googleusercontent.com/a-/AOh14GjkFt5R4lUgA-_UgF3sXZ-Dn_yrOMl0gC1AWiRY6Q=s64",
      "userId": "11377658055693583315"
     },
     "user_tz": 300
    },
    "id": "aBrUw_v_lUVy",
    "outputId": "eab9f534-5a8f-47dc-901a-c8fe7c76b544"
   },
   "outputs": [],
   "source": [
    "# from google.colab import drive\n",
    "# drive.mount('/content/drive')\n",
    "# import os\n",
    "# import sys\n",
    "# os.chdir('/content/drive/My Drive/ProyectoIA2/generative-spectral-datasets')"
   ]
  },
  {
   "cell_type": "code",
   "execution_count": 2,
   "metadata": {
    "executionInfo": {
     "elapsed": 611,
     "status": "ok",
     "timestamp": 1618895416685,
     "user": {
      "displayName": "Brayan Monroy",
      "photoUrl": "https://lh3.googleusercontent.com/a-/AOh14GjkFt5R4lUgA-_UgF3sXZ-Dn_yrOMl0gC1AWiRY6Q=s64",
      "userId": "11377658055693583315"
     },
     "user_tz": 300
    },
    "id": "mDTG6lv5l6Mw"
   },
   "outputs": [],
   "source": [
    "from models.unet import Unet"
   ]
  },
  {
   "cell_type": "code",
   "execution_count": 3,
   "metadata": {},
   "outputs": [],
   "source": [
    "input_shape = (512,512,3)"
   ]
  },
  {
   "cell_type": "code",
   "execution_count": null,
   "metadata": {
    "executionInfo": {
     "elapsed": 980,
     "status": "ok",
     "timestamp": 1618895422069,
     "user": {
      "displayName": "Brayan Monroy",
      "photoUrl": "https://lh3.googleusercontent.com/a-/AOh14GjkFt5R4lUgA-_UgF3sXZ-Dn_yrOMl0gC1AWiRY6Q=s64",
      "userId": "11377658055693583315"
     },
     "user_tz": 300
    },
    "id": "198RKpYJrZgM"
   },
   "outputs": [],
   "source": [
    "model = Unet(input_shape, feature=16, levels=4)  "
   ]
  },
  {
   "cell_type": "code",
   "execution_count": 15,
   "metadata": {},
   "outputs": [
    {
     "name": "stdout",
     "output_type": "stream",
     "text": [
      "Model: \"Unet\"\n",
      "_________________________________________________________________\n",
      "Layer (type)                 Output Shape              Param #   \n",
      "=================================================================\n",
      "input_6 (InputLayer)         [(None, 512, 512, 3)]     0         \n",
      "_________________________________________________________________\n",
      "unet_layer_5 (UnetLayer)     (None, 512, 512, 32)      5487712   \n",
      "_________________________________________________________________\n",
      "conv2d_93 (Conv2D)           (None, 512, 512, 3)       99        \n",
      "=================================================================\n",
      "Total params: 5,487,811\n",
      "Trainable params: 5,487,811\n",
      "Non-trainable params: 0\n",
      "_________________________________________________________________\n"
     ]
    }
   ],
   "source": [
    "model.summary()"
   ]
  },
  {
   "cell_type": "code",
   "execution_count": null,
   "metadata": {},
   "outputs": [],
   "source": [
    "    "
   ]
  }
 ],
 "metadata": {
  "colab": {
   "authorship_tag": "ABX9TyO83cpy+tPP2xTzQcOLltQG",
   "collapsed_sections": [],
   "name": "GSDtrain.ipynb",
   "provenance": []
  },
  "kernelspec": {
   "display_name": "Python 3",
   "language": "python",
   "name": "python3"
  },
  "language_info": {
   "codemirror_mode": {
    "name": "ipython",
    "version": 3
   },
   "file_extension": ".py",
   "mimetype": "text/x-python",
   "name": "python",
   "nbconvert_exporter": "python",
   "pygments_lexer": "ipython3",
   "version": "3.9.2"
  }
 },
 "nbformat": 4,
 "nbformat_minor": 1
}
